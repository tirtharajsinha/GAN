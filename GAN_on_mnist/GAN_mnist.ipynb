{
 "cells": [
  {
   "cell_type": "markdown",
   "metadata": {},
   "source": [
    "<h1 style=\"color:#0bbdb7; padding:20px; text-align:center; font-size:28px; border-top-left-radius:10px; border-top-right-radius:10px;background:#03021f; border:2px solid #0bbdb7; margin:0px;\">Generative Adversarial Networks (GANs)</h1>\n",
    "<img src=\"https://i.imgur.com/NLGPJ.jpg\" width=100% height=auto>\n"
   ]
  },
  {
   "cell_type": "markdown",
   "metadata": {},
   "source": [
    "# Image genarations using GAN with keras"
   ]
  },
  {
   "cell_type": "markdown",
   "metadata": {},
   "source": [
    "### (1) GAN on mnist"
   ]
  },
  {
   "cell_type": "code",
   "execution_count": 3,
   "metadata": {
    "execution": {
     "iopub.execute_input": "2021-08-20T19:30:50.477538Z",
     "iopub.status.busy": "2021-08-20T19:30:50.477190Z",
     "iopub.status.idle": "2021-08-20T19:31:00.727980Z",
     "shell.execute_reply": "2021-08-20T19:31:00.726750Z",
     "shell.execute_reply.started": "2021-08-20T19:30:50.477504Z"
    }
   },
   "outputs": [],
   "source": [
    "import glob\n",
    "import imageio\n",
    "import matplotlib.pyplot as plt\n",
    "import numpy as np\n",
    "import os\n",
    "import PIL\n",
    "from tensorflow.keras import layers\n",
    "import time\n",
    "import tensorflow as tf\n",
    "from tensorflow.python.client import device_lib\n",
    "from IPython import display"
   ]
  },
  {
   "cell_type": "code",
   "execution_count": 3,
   "metadata": {
    "execution": {
     "iopub.execute_input": "2021-08-20T19:31:16.075689Z",
     "iopub.status.busy": "2021-08-20T19:31:16.075322Z",
     "iopub.status.idle": "2021-08-20T19:31:16.090807Z",
     "shell.execute_reply": "2021-08-20T19:31:16.089833Z",
     "shell.execute_reply.started": "2021-08-20T19:31:16.075655Z"
    }
   },
   "outputs": [
    {
     "data": {
      "text/plain": [
       "[PhysicalDevice(name='/physical_device:CPU:0', device_type='CPU')]"
      ]
     },
     "execution_count": 3,
     "metadata": {},
     "output_type": "execute_result"
    }
   ],
   "source": [
    "tf.config.experimental.list_physical_devices()\n"
   ]
  },
  {
   "cell_type": "code",
   "execution_count": 2,
   "metadata": {
    "execution": {
     "iopub.execute_input": "2021-08-20T19:31:22.715966Z",
     "iopub.status.busy": "2021-08-20T19:31:22.715619Z",
     "iopub.status.idle": "2021-08-20T19:31:22.733297Z",
     "shell.execute_reply": "2021-08-20T19:31:22.732288Z",
     "shell.execute_reply.started": "2021-08-20T19:31:22.715938Z"
    }
   },
   "outputs": [
    {
     "name": "stdout",
     "output_type": "stream",
     "text": [
      "==================== GPU Details ====================\n"
     ]
    }
   ],
   "source": [
    "try:\n",
    "    import GPUtil\n",
    "except:\n",
    "    !pip install GPUtil\n",
    "    import GPUtil\n",
    "print(\"=\"*20, \"GPU Details\", \"=\"*20)\n",
    "gpus = GPUtil.getGPUs()\n",
    "for gpu in gpus:\n",
    "    print(gpu_id,gpu.name, gpu.driver,gpu.memoryTotal,gpu.temperature)"
   ]
  },
  {
   "cell_type": "code",
   "execution_count": 10,
   "metadata": {
    "execution": {
     "iopub.execute_input": "2021-08-20T18:59:23.856198Z",
     "iopub.status.busy": "2021-08-20T18:59:23.855511Z",
     "iopub.status.idle": "2021-08-20T18:59:24.254174Z",
     "shell.execute_reply": "2021-08-20T18:59:24.253243Z",
     "shell.execute_reply.started": "2021-08-20T18:59:23.856148Z"
    }
   },
   "outputs": [],
   "source": [
    "(train_images, train_labels), (_, _) = tf.keras.datasets.mnist.load_data()\n",
    "train_images = train_images.reshape(train_images.shape[0], 28, 28, 1).astype('float32')\n",
    "train_images = (train_images - 127.5) / 127.5  # Normalize the images to [-1, 1]\n"
   ]
  },
  {
   "cell_type": "code",
   "execution_count": 11,
   "metadata": {
    "execution": {
     "iopub.execute_input": "2021-08-20T18:59:24.256255Z",
     "iopub.status.busy": "2021-08-20T18:59:24.255891Z",
     "iopub.status.idle": "2021-08-20T18:59:25.983262Z",
     "shell.execute_reply": "2021-08-20T18:59:25.982338Z",
     "shell.execute_reply.started": "2021-08-20T18:59:24.256219Z"
    }
   },
   "outputs": [],
   "source": [
    "BUFFER_SIZE = 60000\n",
    "BATCH_SIZE = 256\n",
    "# Batch and shuffle the data\n",
    "train_dataset = tf.data.Dataset.from_tensor_slices(train_images).shuffle(BUFFER_SIZE).batch(BATCH_SIZE)\n"
   ]
  },
  {
   "cell_type": "code",
   "execution_count": 12,
   "metadata": {
    "execution": {
     "iopub.execute_input": "2021-08-20T18:59:25.984877Z",
     "iopub.status.busy": "2021-08-20T18:59:25.984546Z",
     "iopub.status.idle": "2021-08-20T18:59:25.994783Z",
     "shell.execute_reply": "2021-08-20T18:59:25.993760Z",
     "shell.execute_reply.started": "2021-08-20T18:59:25.984842Z"
    }
   },
   "outputs": [],
   "source": [
    "def make_generator_model():\n",
    "    model = tf.keras.Sequential()\n",
    "    model.add(layers.Dense(7*7*256, use_bias=False, input_shape=(100,)))\n",
    "    model.add(layers.BatchNormalization())\n",
    "    model.add(layers.LeakyReLU())\n",
    "\n",
    "    model.add(layers.Reshape((7, 7, 256)))\n",
    "    assert model.output_shape == (None, 7, 7, 256)  # Note: None is the batch size\n",
    "    model.add(layers.Conv2DTranspose(128, (5, 5), strides=(1, 1), padding='same', use_bias=False))\n",
    "    assert model.output_shape == (None, 7, 7, 128)\n",
    "    model.add(layers.BatchNormalization())\n",
    "    model.add(layers.LeakyReLU())\n",
    "\n",
    "   # upsample to 14x14\n",
    "    model.add(layers.Conv2DTranspose(64, (5, 5), strides=(2, 2), padding='same', use_bias=False))\n",
    "    assert model.output_shape == (None, 14, 14, 64)\n",
    "    model.add(layers.BatchNormalization())\n",
    "    model.add(layers.LeakyReLU())\n",
    "    \n",
    "    # upsample to 28x28\n",
    "    model.add(layers.Conv2DTranspose(1, (5, 5), strides=(2, 2), padding='same', use_bias=False, activation='tanh'))\n",
    "    assert model.output_shape == (None, 28, 28, 1)\n",
    "\n",
    "    return model"
   ]
  },
  {
   "cell_type": "code",
   "execution_count": 13,
   "metadata": {
    "execution": {
     "iopub.execute_input": "2021-08-20T18:59:25.996915Z",
     "iopub.status.busy": "2021-08-20T18:59:25.996178Z",
     "iopub.status.idle": "2021-08-20T18:59:32.284037Z",
     "shell.execute_reply": "2021-08-20T18:59:32.283110Z",
     "shell.execute_reply.started": "2021-08-20T18:59:25.996876Z"
    }
   },
   "outputs": [
    {
     "data": {
      "text/plain": [
       "<matplotlib.image.AxesImage at 0x7f090835ca10>"
      ]
     },
     "execution_count": 13,
     "metadata": {},
     "output_type": "execute_result"
    },
    {
     "data": {
      "image/png": "[encoded data removed]",
      "text/plain": [
       "<Figure size 432x288 with 1 Axes>"
      ]
     },
     "metadata": {
      "needs_background": "light"
     },
     "output_type": "display_data"
    }
   ],
   "source": [
    "# sample image generated by the the generator\n",
    "generator = make_generator_model()\n",
    "\n",
    "noise = tf.random.normal([1, 100]) #latent space\n",
    "generated_image = generator(noise, training=False)\n",
    "\n",
    "plt.imshow(generated_image[0, :, :, 0], cmap='gray')"
   ]
  },
  {
   "cell_type": "code",
   "execution_count": 14,
   "metadata": {
    "execution": {
     "iopub.execute_input": "2021-08-20T18:59:32.285920Z",
     "iopub.status.busy": "2021-08-20T18:59:32.285577Z",
     "iopub.status.idle": "2021-08-20T18:59:32.292882Z",
     "shell.execute_reply": "2021-08-20T18:59:32.291776Z",
     "shell.execute_reply.started": "2021-08-20T18:59:32.285881Z"
    }
   },
   "outputs": [],
   "source": [
    "\n",
    "def make_discriminator_model():\n",
    "    model = tf.keras.Sequential()\n",
    "    \n",
    "    model.add(layers.Conv2D(64, (5, 5), strides=(2, 2), padding='same',input_shape=[28, 28, 1])) #2×2 stride to downsample\n",
    "    model.add(layers.LeakyReLU())\n",
    "    model.add(layers.Dropout(0.3))\n",
    "\n",
    "    model.add(layers.Conv2D(128, (5, 5), strides=(2, 2), padding='same')) #downsampling  2×2 stride to downsample\n",
    "    model.add(layers.LeakyReLU())\n",
    "    model.add(layers.Dropout(0.3))\n",
    "\n",
    "    model.add(layers.Flatten())  # classifier real (class=1) or fake (class=0))\n",
    "    model.add(layers.Dense(1, activation='sigmoid'))\n",
    "\n",
    "    return model"
   ]
  },
  {
   "cell_type": "code",
   "execution_count": 15,
   "metadata": {
    "execution": {
     "iopub.execute_input": "2021-08-20T18:59:32.296489Z",
     "iopub.status.busy": "2021-08-20T18:59:32.295883Z",
     "iopub.status.idle": "2021-08-20T18:59:32.485957Z",
     "shell.execute_reply": "2021-08-20T18:59:32.485125Z",
     "shell.execute_reply.started": "2021-08-20T18:59:32.296431Z"
    }
   },
   "outputs": [
    {
     "name": "stdout",
     "output_type": "stream",
     "text": [
      "tf.Tensor([[0.49970245]], shape=(1, 1), dtype=float32)\n"
     ]
    }
   ],
   "source": [
    "discriminator = make_discriminator_model()\n",
    "decision = discriminator(generated_image)\n",
    "print (decision)"
   ]
  },
  {
   "cell_type": "code",
   "execution_count": 16,
   "metadata": {
    "execution": {
     "iopub.execute_input": "2021-08-20T18:59:32.487985Z",
     "iopub.status.busy": "2021-08-20T18:59:32.487634Z",
     "iopub.status.idle": "2021-08-20T18:59:32.492123Z",
     "shell.execute_reply": "2021-08-20T18:59:32.491236Z",
     "shell.execute_reply.started": "2021-08-20T18:59:32.487949Z"
    }
   },
   "outputs": [],
   "source": [
    "cross_entropy = tf.keras.losses.BinaryCrossentropy(from_logits=True)"
   ]
  },
  {
   "cell_type": "code",
   "execution_count": 17,
   "metadata": {
    "execution": {
     "iopub.execute_input": "2021-08-20T18:59:32.494081Z",
     "iopub.status.busy": "2021-08-20T18:59:32.493487Z",
     "iopub.status.idle": "2021-08-20T18:59:32.503826Z",
     "shell.execute_reply": "2021-08-20T18:59:32.503062Z",
     "shell.execute_reply.started": "2021-08-20T18:59:32.494043Z"
    }
   },
   "outputs": [],
   "source": [
    "def discriminator_loss(real_output, fake_output):\n",
    "    real_loss = cross_entropy(tf.ones_like(real_output), real_output)\n",
    "    fake_loss = cross_entropy(tf.zeros_like(fake_output), fake_output)\n",
    "    total_loss = real_loss + fake_loss\n",
    "    return total_loss\n",
    "\n",
    "def generator_loss(fake_output):\n",
    "    return cross_entropy(tf.ones_like(fake_output), fake_output)"
   ]
  },
  {
   "cell_type": "code",
   "execution_count": 18,
   "metadata": {
    "execution": {
     "iopub.execute_input": "2021-08-20T18:59:32.505592Z",
     "iopub.status.busy": "2021-08-20T18:59:32.505151Z",
     "iopub.status.idle": "2021-08-20T18:59:32.512284Z",
     "shell.execute_reply": "2021-08-20T18:59:32.511497Z",
     "shell.execute_reply.started": "2021-08-20T18:59:32.505555Z"
    }
   },
   "outputs": [],
   "source": [
    "generator_optimizer = tf.keras.optimizers.Adam(1e-4)\n",
    "discriminator_optimizer = tf.keras.optimizers.Adam(1e-4)"
   ]
  },
  {
   "cell_type": "code",
   "execution_count": 19,
   "metadata": {
    "execution": {
     "iopub.execute_input": "2021-08-20T18:59:32.515475Z",
     "iopub.status.busy": "2021-08-20T18:59:32.515221Z",
     "iopub.status.idle": "2021-08-20T18:59:32.522494Z",
     "shell.execute_reply": "2021-08-20T18:59:32.521566Z",
     "shell.execute_reply.started": "2021-08-20T18:59:32.515445Z"
    }
   },
   "outputs": [],
   "source": [
    "checkpoint_dir = './training_checkpoints'\n",
    "checkpoint_prefix = os.path.join(checkpoint_dir, \"ckpt\")\n",
    "checkpoint = tf.train.Checkpoint(generator_optimizer=generator_optimizer,\n",
    "                                 discriminator_optimizer=discriminator_optimizer,\n",
    "                                 generator=generator,\n",
    "                                 discriminator=discriminator)"
   ]
  },
  {
   "cell_type": "code",
   "execution_count": 20,
   "metadata": {
    "execution": {
     "iopub.execute_input": "2021-08-20T18:59:32.524241Z",
     "iopub.status.busy": "2021-08-20T18:59:32.523825Z",
     "iopub.status.idle": "2021-08-20T18:59:32.530825Z",
     "shell.execute_reply": "2021-08-20T18:59:32.530144Z",
     "shell.execute_reply.started": "2021-08-20T18:59:32.524205Z"
    }
   },
   "outputs": [],
   "source": [
    "EPOCHS = 50\n",
    "noise_dim = 100\n",
    "num_examples_to_generate = 16\n",
    "\n",
    "seed = tf.random.normal([num_examples_to_generate, noise_dim])"
   ]
  },
  {
   "cell_type": "code",
   "execution_count": 21,
   "metadata": {
    "execution": {
     "iopub.execute_input": "2021-08-20T18:59:32.533681Z",
     "iopub.status.busy": "2021-08-20T18:59:32.533025Z",
     "iopub.status.idle": "2021-08-20T18:59:32.541763Z",
     "shell.execute_reply": "2021-08-20T18:59:32.540959Z",
     "shell.execute_reply.started": "2021-08-20T18:59:32.533646Z"
    }
   },
   "outputs": [],
   "source": [
    "\n",
    "@tf.function\n",
    "def train_step(images):\n",
    "    noise = tf.random.normal([BATCH_SIZE, noise_dim])\n",
    "\n",
    "    with tf.GradientTape() as gen_tape, tf.GradientTape() as disc_tape:\n",
    "        generated_images = generator(noise, training=True)\n",
    "\n",
    "        real_output = discriminator(images, training=True)\n",
    "        fake_output = discriminator(generated_images, training=True)\n",
    "\n",
    "        gen_loss = generator_loss(fake_output)\n",
    "        disc_loss = discriminator_loss(real_output, fake_output)\n",
    "\n",
    "    gradients_of_generator = gen_tape.gradient(gen_loss, generator.trainable_variables)\n",
    "    gradients_of_discriminator = disc_tape.gradient(disc_loss, discriminator.trainable_variables)\n",
    "\n",
    "    generator_optimizer.apply_gradients(zip(gradients_of_generator, generator.trainable_variables))\n",
    "    discriminator_optimizer.apply_gradients(zip(gradients_of_discriminator, discriminator.trainable_variables))"
   ]
  },
  {
   "cell_type": "code",
   "execution_count": 22,
   "metadata": {
    "execution": {
     "iopub.execute_input": "2021-08-20T18:59:32.543460Z",
     "iopub.status.busy": "2021-08-20T18:59:32.543000Z",
     "iopub.status.idle": "2021-08-20T18:59:32.550579Z",
     "shell.execute_reply": "2021-08-20T18:59:32.549702Z",
     "shell.execute_reply.started": "2021-08-20T18:59:32.543369Z"
    }
   },
   "outputs": [],
   "source": [
    "def train(dataset, epochs):\n",
    "  for epoch in range(epochs):\n",
    "    start = time.time()\n",
    "\n",
    "    for image_batch in dataset:\n",
    "      train_step(image_batch)\n",
    "\n",
    "    # Produce images for the GIF as you go\n",
    "    display.clear_output(wait=True)\n",
    "    generate_and_save_images(generator,\n",
    "                             epoch + 1,\n",
    "                             seed)\n",
    "\n",
    "    # Save the model every 15 epochs\n",
    "    if (epoch + 1) % 15 == 0:\n",
    "      checkpoint.save(file_prefix = checkpoint_prefix)\n",
    "\n",
    "    print ('Time for epoch {} is {} sec'.format(epoch + 1, time.time()-start))\n",
    "    print(\"=\"*20, \"GPU Details\", \"=\"*20)\n",
    "    gpus = GPUtil.getGPUs()\n",
    "    for gpu in gpus:\n",
    "        print(gpu_id,gpu.name, gpu.driver,gpu.memoryTotal,gpu.temperature)\n",
    "  # Generate after the final epoch\n",
    "  display.clear_output(wait=True)\n",
    "  generate_and_save_images(generator,\n",
    "                           epochs,\n",
    "                           seed)"
   ]
  },
  {
   "cell_type": "code",
   "execution_count": 23,
   "metadata": {
    "execution": {
     "iopub.execute_input": "2021-08-20T18:59:32.552574Z",
     "iopub.status.busy": "2021-08-20T18:59:32.551934Z",
     "iopub.status.idle": "2021-08-20T18:59:32.560810Z",
     "shell.execute_reply": "2021-08-20T18:59:32.560003Z",
     "shell.execute_reply.started": "2021-08-20T18:59:32.552478Z"
    }
   },
   "outputs": [],
   "source": [
    "def generate_and_save_images(model, epoch, test_input):\n",
    "  # Notice `training` is set to False.\n",
    "  # This is so all layers run in inference mode (batchnorm).\n",
    "  predictions = model(test_input, training=False)\n",
    "\n",
    "  fig = plt.figure(figsize=(4, 4))\n",
    "\n",
    "  for i in range(predictions.shape[0]):\n",
    "      plt.subplot(4, 4, i+1)\n",
    "      plt.imshow(predictions[i, :, :, 0] * 127.5 + 127.5, cmap='gray')\n",
    "      plt.axis('off')\n",
    "\n",
    "  plt.savefig('image_at_epoch_{:04d}.png'.format(epoch))\n",
    "  plt.show()"
   ]
  },
  {
   "cell_type": "code",
   "execution_count": 24,
   "metadata": {
    "execution": {
     "iopub.execute_input": "2021-08-20T18:59:32.563225Z",
     "iopub.status.busy": "2021-08-20T18:59:32.562943Z",
     "iopub.status.idle": "2021-08-20T19:05:05.489364Z",
     "shell.execute_reply": "2021-08-20T19:05:05.488549Z",
     "shell.execute_reply.started": "2021-08-20T18:59:32.563191Z"
    }
   },
   "outputs": [
    {
     "data": {
      "image/png": "[encoded data removed]",
      "text/plain": [
       "<Figure size 288x288 with 16 Axes>"
      ]
     },
     "metadata": {
      "needs_background": "light"
     },
     "output_type": "display_data"
    }
   ],
   "source": [
    "train(train_dataset, EPOCHS)"
   ]
  },
  {
   "cell_type": "code",
   "execution_count": null,
   "metadata": {},
   "outputs": [],
   "source": []
  }
 ],
 "metadata": {
  "kernelspec": {
   "display_name": "Python 3",
   "language": "python",
   "name": "python3"
  },
  "language_info": {
   "codemirror_mode": {
    "name": "ipython",
    "version": 3
   },
   "file_extension": ".py",
   "mimetype": "text/x-python",
   "name": "python",
   "nbconvert_exporter": "python",
   "pygments_lexer": "ipython3",
   "version": "3.8.5"
  }
 },
 "nbformat": 4,
 "nbformat_minor": 4
}
